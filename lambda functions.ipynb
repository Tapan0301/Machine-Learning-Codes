{
 "cells": [
  {
   "cell_type": "code",
   "execution_count": 1,
   "id": "e296389f-8e42-49e9-8995-9046fc0bb9d0",
   "metadata": {},
   "outputs": [],
   "source": [
    "n=3\n",
    "p=2"
   ]
  },
  {
   "cell_type": "code",
   "execution_count": 2,
   "id": "bb81d0e3-bc55-4ecb-a582-92c814ade912",
   "metadata": {},
   "outputs": [],
   "source": [
    "def test(n,p):\n",
    "    return n**p"
   ]
  },
  {
   "cell_type": "code",
   "execution_count": 3,
   "id": "d31eac17-4f06-455f-8c93-3c5f8c0a9dc0",
   "metadata": {},
   "outputs": [
    {
     "data": {
      "text/plain": [
       "9"
      ]
     },
     "execution_count": 3,
     "metadata": {},
     "output_type": "execute_result"
    }
   ],
   "source": [
    "test(3,2)"
   ]
  },
  {
   "cell_type": "code",
   "execution_count": 6,
   "id": "74dac3d3-e68c-4219-9d3f-c2b59faf9c52",
   "metadata": {},
   "outputs": [],
   "source": [
    "a= lambda n,p :n**p"
   ]
  },
  {
   "cell_type": "code",
   "execution_count": 7,
   "id": "50ba9c6f-cc1a-456f-99b0-658082257c96",
   "metadata": {},
   "outputs": [
    {
     "data": {
      "text/plain": [
       "9"
      ]
     },
     "execution_count": 7,
     "metadata": {},
     "output_type": "execute_result"
    }
   ],
   "source": [
    "a(3,2)"
   ]
  },
  {
   "cell_type": "code",
   "execution_count": 8,
   "id": "ffcef843-f5df-486b-ab40-6cee4e038c3d",
   "metadata": {},
   "outputs": [],
   "source": [
    "add=lambda x,y :x+y"
   ]
  },
  {
   "cell_type": "code",
   "execution_count": 9,
   "id": "dac15451-927b-4d17-9cbb-8b06ed05af04",
   "metadata": {},
   "outputs": [
    {
     "data": {
      "text/plain": [
       "9"
      ]
     },
     "execution_count": 9,
     "metadata": {},
     "output_type": "execute_result"
    }
   ],
   "source": [
    "add(4,5)"
   ]
  },
  {
   "cell_type": "code",
   "execution_count": 10,
   "id": "c0060d3a-f220-43d4-aa9b-f3253edd0312",
   "metadata": {},
   "outputs": [],
   "source": [
    "c_to_f = lambda c :(9/5)*c+32"
   ]
  },
  {
   "cell_type": "code",
   "execution_count": 11,
   "id": "f1365337-2709-4943-91e5-3cee8f3314c8",
   "metadata": {},
   "outputs": [
    {
     "data": {
      "text/plain": [
       "113.0"
      ]
     },
     "execution_count": 11,
     "metadata": {},
     "output_type": "execute_result"
    }
   ],
   "source": [
    "c_to_f(45)"
   ]
  },
  {
   "cell_type": "code",
   "execution_count": 12,
   "id": "6a81cf76-40d1-44a8-b850-60d8dab76e65",
   "metadata": {},
   "outputs": [],
   "source": [
    "finding_max = lambda x,y : x if x>y else y"
   ]
  },
  {
   "cell_type": "code",
   "execution_count": 13,
   "id": "fd810565-c533-4e34-a809-d27e382113af",
   "metadata": {},
   "outputs": [
    {
     "data": {
      "text/plain": [
       "5"
      ]
     },
     "execution_count": 13,
     "metadata": {},
     "output_type": "execute_result"
    }
   ],
   "source": [
    "finding_max(4,5)"
   ]
  },
  {
   "cell_type": "code",
   "execution_count": 14,
   "id": "0a322808-988f-4070-9622-439ed2b3ac81",
   "metadata": {},
   "outputs": [],
   "source": [
    "s=\"Pwskills\""
   ]
  },
  {
   "cell_type": "code",
   "execution_count": 15,
   "id": "fc486c37-6d80-42e7-818b-7b296881bf19",
   "metadata": {},
   "outputs": [],
   "source": [
    "find_len=lambda s : len(s)"
   ]
  },
  {
   "cell_type": "code",
   "execution_count": 16,
   "id": "b1788d93-1939-4d41-8ee2-4940105872fc",
   "metadata": {},
   "outputs": [
    {
     "data": {
      "text/plain": [
       "8"
      ]
     },
     "execution_count": 16,
     "metadata": {},
     "output_type": "execute_result"
    }
   ],
   "source": [
    "find_len(s)"
   ]
  },
  {
   "cell_type": "code",
   "execution_count": null,
   "id": "8ec8d2e0-36b7-450b-ac79-fcd323302cf7",
   "metadata": {},
   "outputs": [],
   "source": []
  }
 ],
 "metadata": {
  "kernelspec": {
   "display_name": "Python 3 (ipykernel)",
   "language": "python",
   "name": "python3"
  },
  "language_info": {
   "codemirror_mode": {
    "name": "ipython",
    "version": 3
   },
   "file_extension": ".py",
   "mimetype": "text/x-python",
   "name": "python",
   "nbconvert_exporter": "python",
   "pygments_lexer": "ipython3",
   "version": "3.10.6"
  }
 },
 "nbformat": 4,
 "nbformat_minor": 5
}
