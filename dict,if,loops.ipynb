{
 "cells": [
  {
   "cell_type": "code",
   "execution_count": null,
   "id": "6f379fe1-378a-4f4a-9ce9-f068ffa93225",
   "metadata": {},
   "outputs": [],
   "source": [
    "#***************************************** DICTIONARY *************************[Key Value Pair]"
   ]
  },
  {
   "cell_type": "code",
   "execution_count": 1,
   "id": "eb2a6bb7-11ef-4429-9cf0-5a1410a7c945",
   "metadata": {},
   "outputs": [],
   "source": [
    "d={}"
   ]
  },
  {
   "cell_type": "code",
   "execution_count": 2,
   "id": "2fc565ee-c15c-4e6c-b7a2-f549030526ac",
   "metadata": {},
   "outputs": [
    {
     "data": {
      "text/plain": [
       "dict"
      ]
     },
     "execution_count": 2,
     "metadata": {},
     "output_type": "execute_result"
    }
   ],
   "source": [
    "type(d)"
   ]
  },
  {
   "cell_type": "code",
   "execution_count": 4,
   "id": "a238c86e-005e-40cb-b726-27a565de9ddc",
   "metadata": {},
   "outputs": [],
   "source": [
    "d1={'key' : \"sudh\"}"
   ]
  },
  {
   "cell_type": "code",
   "execution_count": 5,
   "id": "d07380b9-47d4-422f-aa98-51ac8b76468e",
   "metadata": {},
   "outputs": [
    {
     "data": {
      "text/plain": [
       "{'key': 'sudh'}"
      ]
     },
     "execution_count": 5,
     "metadata": {},
     "output_type": "execute_result"
    }
   ],
   "source": [
    "d1"
   ]
  },
  {
   "cell_type": "code",
   "execution_count": 6,
   "id": "5c3067f9-1df6-4f6d-8425-47f107991bbe",
   "metadata": {},
   "outputs": [],
   "source": [
    "d2={'name':\"sudhanshu\",\"email\":\"ss@gmail.com\",\"number\":\"334534\"}"
   ]
  },
  {
   "cell_type": "code",
   "execution_count": 7,
   "id": "09835158-08f1-4a91-84c4-b29fb24b07fb",
   "metadata": {},
   "outputs": [
    {
     "data": {
      "text/plain": [
       "{'name': 'sudhanshu', 'email': 'ss@gmail.com', 'number': '334534'}"
      ]
     },
     "execution_count": 7,
     "metadata": {},
     "output_type": "execute_result"
    }
   ],
   "source": [
    "d2"
   ]
  },
  {
   "cell_type": "code",
   "execution_count": 8,
   "id": "a479f6cd-ec29-4c40-964e-a38db562497f",
   "metadata": {},
   "outputs": [
    {
     "ename": "SyntaxError",
     "evalue": "invalid syntax (3872287631.py, line 1)",
     "output_type": "error",
     "traceback": [
      "\u001b[0;36m  Cell \u001b[0;32mIn [8], line 1\u001b[0;36m\u001b[0m\n\u001b[0;31m    d3={234:\"sudh\",@wer:\"Kumar\"}\u001b[0m\n\u001b[0m                   ^\u001b[0m\n\u001b[0;31mSyntaxError\u001b[0m\u001b[0;31m:\u001b[0m invalid syntax\n"
     ]
    }
   ],
   "source": [
    "d3={234:\"sudh\",@wer:\"Kumar\"}"
   ]
  },
  {
   "cell_type": "code",
   "execution_count": 9,
   "id": "c7dc9e1d-0bad-4659-8627-e64e96fb6a4c",
   "metadata": {},
   "outputs": [],
   "source": [
    "d3={234:\"sudh\",'@wer':\"Kumar\"}"
   ]
  },
  {
   "cell_type": "code",
   "execution_count": 10,
   "id": "48a8155a-0446-4fa3-9122-b64a3ac843d6",
   "metadata": {},
   "outputs": [
    {
     "data": {
      "text/plain": [
       "{234: 'sudh', '@wer': 'Kumar'}"
      ]
     },
     "execution_count": 10,
     "metadata": {},
     "output_type": "execute_result"
    }
   ],
   "source": [
    "d3"
   ]
  },
  {
   "cell_type": "code",
   "execution_count": 11,
   "id": "dc795eb8-cdb6-424b-900f-52683c1232c5",
   "metadata": {},
   "outputs": [],
   "source": [
    "d3={234:\"sudh\",'@wer':\"Kumar\",True:24234}"
   ]
  },
  {
   "cell_type": "code",
   "execution_count": 12,
   "id": "6ad642e4-3ade-4045-a1b4-c1d7798ff70e",
   "metadata": {},
   "outputs": [
    {
     "data": {
      "text/plain": [
       "{234: 'sudh', '@wer': 'Kumar', True: 24234}"
      ]
     },
     "execution_count": 12,
     "metadata": {},
     "output_type": "execute_result"
    }
   ],
   "source": [
    "d3"
   ]
  },
  {
   "cell_type": "code",
   "execution_count": 13,
   "id": "9dba9c6e-2079-4c0c-8425-beb9af2c8839",
   "metadata": {},
   "outputs": [
    {
     "data": {
      "text/plain": [
       "'sudh'"
      ]
     },
     "execution_count": 13,
     "metadata": {},
     "output_type": "execute_result"
    }
   ],
   "source": [
    "d3[234]"
   ]
  },
  {
   "cell_type": "code",
   "execution_count": 14,
   "id": "a72252ee-831a-42e2-ab87-765bffc9d5c1",
   "metadata": {},
   "outputs": [
    {
     "data": {
      "text/plain": [
       "24234"
      ]
     },
     "execution_count": 14,
     "metadata": {},
     "output_type": "execute_result"
    }
   ],
   "source": [
    "d3[True]"
   ]
  },
  {
   "cell_type": "code",
   "execution_count": 16,
   "id": "573c1f7d-1e24-42d4-a102-5544fc0b971f",
   "metadata": {},
   "outputs": [
    {
     "data": {
      "text/plain": [
       "24234"
      ]
     },
     "execution_count": 16,
     "metadata": {},
     "output_type": "execute_result"
    }
   ],
   "source": [
    "d3[1]\n",
    "#since 1==True"
   ]
  },
  {
   "cell_type": "code",
   "execution_count": 17,
   "id": "9cc99f6e-fd9e-4aa5-8a53-e5e5b6cde62f",
   "metadata": {},
   "outputs": [],
   "source": [
    "d4={'name':\"Sudh\",\"maild-id\":\"ss@gmail.com\",\"name\":\"sudhanshu\"}"
   ]
  },
  {
   "cell_type": "code",
   "execution_count": 18,
   "id": "7cada13a-955c-45aa-a135-27ad5cb05fa6",
   "metadata": {},
   "outputs": [
    {
     "data": {
      "text/plain": [
       "'sudhanshu'"
      ]
     },
     "execution_count": 18,
     "metadata": {},
     "output_type": "execute_result"
    }
   ],
   "source": [
    "d4['name']"
   ]
  },
  {
   "cell_type": "code",
   "execution_count": 19,
   "id": "f6534644-4a9f-4469-bdcd-ab8d20b62cc1",
   "metadata": {},
   "outputs": [],
   "source": [
    "d5={\"company\":\"pwskills\", \"course\":[\"web dev\",\"data science\",\"java\"]}"
   ]
  },
  {
   "cell_type": "code",
   "execution_count": 20,
   "id": "1689a76b-7b63-418b-841c-d19b3b165614",
   "metadata": {},
   "outputs": [
    {
     "data": {
      "text/plain": [
       "{'company': 'pwskills', 'course': ['web dev', 'data science', 'java']}"
      ]
     },
     "execution_count": 20,
     "metadata": {},
     "output_type": "execute_result"
    }
   ],
   "source": [
    "d5"
   ]
  },
  {
   "cell_type": "code",
   "execution_count": 21,
   "id": "4bad962c-dcab-49b7-af41-ae73f586d657",
   "metadata": {},
   "outputs": [
    {
     "data": {
      "text/plain": [
       "['web dev', 'data science', 'java']"
      ]
     },
     "execution_count": 21,
     "metadata": {},
     "output_type": "execute_result"
    }
   ],
   "source": [
    "d5['course']"
   ]
  },
  {
   "cell_type": "code",
   "execution_count": 22,
   "id": "19529f65-38ca-4266-b2df-fadc3eab2a80",
   "metadata": {},
   "outputs": [
    {
     "data": {
      "text/plain": [
       "'data science'"
      ]
     },
     "execution_count": 22,
     "metadata": {},
     "output_type": "execute_result"
    }
   ],
   "source": [
    "d5['course'][1]"
   ]
  },
  {
   "cell_type": "code",
   "execution_count": 23,
   "id": "fe921033-41c4-46b1-9402-205e64c6f3a5",
   "metadata": {},
   "outputs": [],
   "source": [
    "d6={\"number\":[2,34,3,34,34],\"assignment\":(1,2,3,4,5,6),\"launch_date\":{25,12,26}}"
   ]
  },
  {
   "cell_type": "code",
   "execution_count": 24,
   "id": "0e09e473-c609-4ab2-aec3-ba0d713b0fa3",
   "metadata": {},
   "outputs": [
    {
     "data": {
      "text/plain": [
       "{'number': [2, 34, 3, 34, 34],\n",
       " 'assignment': (1, 2, 3, 4, 5, 6),\n",
       " 'launch_date': {12, 25, 26}}"
      ]
     },
     "execution_count": 24,
     "metadata": {},
     "output_type": "execute_result"
    }
   ],
   "source": [
    "d6"
   ]
  },
  {
   "cell_type": "code",
   "execution_count": 28,
   "id": "b8fe345e-a391-4c75-a70e-3639381beecb",
   "metadata": {},
   "outputs": [],
   "source": [
    "d6={\"number\":[2,34,3,34,34],\"assignment\":(1,2,3,4,5,6),\"launch_date\":{25,12,26}, \"class_time\":{\"Web_dev\":8}}"
   ]
  },
  {
   "cell_type": "code",
   "execution_count": 29,
   "id": "252fcde3-a9ce-452d-b1db-58a0d4c961be",
   "metadata": {},
   "outputs": [
    {
     "data": {
      "text/plain": [
       "{'number': [2, 34, 3, 34, 34],\n",
       " 'assignment': (1, 2, 3, 4, 5, 6),\n",
       " 'launch_date': {12, 25, 26},\n",
       " 'class_time': {'Web_dev': 8}}"
      ]
     },
     "execution_count": 29,
     "metadata": {},
     "output_type": "execute_result"
    }
   ],
   "source": [
    "d6"
   ]
  },
  {
   "cell_type": "code",
   "execution_count": 30,
   "id": "bf255bfb-9af8-4cc5-9b9b-dff7af2bfd0a",
   "metadata": {},
   "outputs": [
    {
     "data": {
      "text/plain": [
       "{'Web_dev': 8}"
      ]
     },
     "execution_count": 30,
     "metadata": {},
     "output_type": "execute_result"
    }
   ],
   "source": [
    "d6['class_time']"
   ]
  },
  {
   "cell_type": "code",
   "execution_count": 31,
   "id": "06c3bae8-6965-4f55-8993-e0df08cde18d",
   "metadata": {},
   "outputs": [
    {
     "data": {
      "text/plain": [
       "8"
      ]
     },
     "execution_count": 31,
     "metadata": {},
     "output_type": "execute_result"
    }
   ],
   "source": [
    "d6['class_time']['Web_dev']"
   ]
  },
  {
   "cell_type": "code",
   "execution_count": 32,
   "id": "2a097852-0e63-4d40-894c-985647ee2045",
   "metadata": {},
   "outputs": [],
   "source": [
    "d6['mentor']=[\"sudhanshu\",\"krish\",\"anurag\"]"
   ]
  },
  {
   "cell_type": "code",
   "execution_count": 33,
   "id": "b1fa4edf-18b9-47c1-a23b-c213021f92e2",
   "metadata": {},
   "outputs": [
    {
     "data": {
      "text/plain": [
       "{'number': [2, 34, 3, 34, 34],\n",
       " 'assignment': (1, 2, 3, 4, 5, 6),\n",
       " 'launch_date': {12, 25, 26},\n",
       " 'class_time': {'Web_dev': 8},\n",
       " 'mentor': ['sudhanshu', 'krish', 'anurag']}"
      ]
     },
     "execution_count": 33,
     "metadata": {},
     "output_type": "execute_result"
    }
   ],
   "source": [
    "d6"
   ]
  },
  {
   "cell_type": "code",
   "execution_count": 34,
   "id": "17d7ae9c-2f5b-445d-ad3f-1c7175656986",
   "metadata": {},
   "outputs": [],
   "source": [
    "del d6['number']"
   ]
  },
  {
   "cell_type": "code",
   "execution_count": 35,
   "id": "a74b51bd-d99f-49e3-8e73-92949e0b6550",
   "metadata": {},
   "outputs": [
    {
     "data": {
      "text/plain": [
       "{'assignment': (1, 2, 3, 4, 5, 6),\n",
       " 'launch_date': {12, 25, 26},\n",
       " 'class_time': {'Web_dev': 8},\n",
       " 'mentor': ['sudhanshu', 'krish', 'anurag']}"
      ]
     },
     "execution_count": 35,
     "metadata": {},
     "output_type": "execute_result"
    }
   ],
   "source": [
    "d6"
   ]
  },
  {
   "cell_type": "code",
   "execution_count": 36,
   "id": "b6653f12-25bb-4d6e-bcf9-bc909948f1de",
   "metadata": {},
   "outputs": [
    {
     "data": {
      "text/plain": [
       "dict_keys(['assignment', 'launch_date', 'class_time', 'mentor'])"
      ]
     },
     "execution_count": 36,
     "metadata": {},
     "output_type": "execute_result"
    }
   ],
   "source": [
    "d6.keys()"
   ]
  },
  {
   "cell_type": "code",
   "execution_count": 37,
   "id": "b19f6646-d428-4fd8-b73d-b464ab3b2443",
   "metadata": {},
   "outputs": [
    {
     "data": {
      "text/plain": [
       "['assignment', 'launch_date', 'class_time', 'mentor']"
      ]
     },
     "execution_count": 37,
     "metadata": {},
     "output_type": "execute_result"
    }
   ],
   "source": [
    "list(d6.keys())"
   ]
  },
  {
   "cell_type": "code",
   "execution_count": 38,
   "id": "dc6ec5b0-00ff-4a7d-8bed-58bd09123707",
   "metadata": {},
   "outputs": [
    {
     "data": {
      "text/plain": [
       "[(1, 2, 3, 4, 5, 6),\n",
       " {12, 25, 26},\n",
       " {'Web_dev': 8},\n",
       " ['sudhanshu', 'krish', 'anurag']]"
      ]
     },
     "execution_count": 38,
     "metadata": {},
     "output_type": "execute_result"
    }
   ],
   "source": [
    "list(d6.values())"
   ]
  },
  {
   "cell_type": "code",
   "execution_count": 39,
   "id": "ed601222-401e-4fa2-b1da-45142e4367ef",
   "metadata": {},
   "outputs": [
    {
     "data": {
      "text/plain": [
       "dict_items([('assignment', (1, 2, 3, 4, 5, 6)), ('launch_date', {25, 26, 12}), ('class_time', {'Web_dev': 8}), ('mentor', ['sudhanshu', 'krish', 'anurag'])])"
      ]
     },
     "execution_count": 39,
     "metadata": {},
     "output_type": "execute_result"
    }
   ],
   "source": [
    "d6.items()"
   ]
  },
  {
   "cell_type": "code",
   "execution_count": 40,
   "id": "7774209a-44e3-4408-a3b9-4cb2b276391e",
   "metadata": {},
   "outputs": [
    {
     "data": {
      "text/plain": [
       "[('assignment', (1, 2, 3, 4, 5, 6)),\n",
       " ('launch_date', {12, 25, 26}),\n",
       " ('class_time', {'Web_dev': 8}),\n",
       " ('mentor', ['sudhanshu', 'krish', 'anurag'])]"
      ]
     },
     "execution_count": 40,
     "metadata": {},
     "output_type": "execute_result"
    }
   ],
   "source": [
    "list(d6.items())"
   ]
  },
  {
   "cell_type": "code",
   "execution_count": 41,
   "id": "492fc3b4-937d-4db3-b2f8-288a0c64fe6b",
   "metadata": {},
   "outputs": [
    {
     "data": {
      "text/plain": [
       "(1, 2, 3, 4, 5, 6)"
      ]
     },
     "execution_count": 41,
     "metadata": {},
     "output_type": "execute_result"
    }
   ],
   "source": [
    "d6.pop('assignment')"
   ]
  },
  {
   "cell_type": "code",
   "execution_count": 42,
   "id": "0aacd74f-e5d1-4c62-96ed-139470b674af",
   "metadata": {},
   "outputs": [
    {
     "data": {
      "text/plain": [
       "{'launch_date': {12, 25, 26},\n",
       " 'class_time': {'Web_dev': 8},\n",
       " 'mentor': ['sudhanshu', 'krish', 'anurag']}"
      ]
     },
     "execution_count": 42,
     "metadata": {},
     "output_type": "execute_result"
    }
   ],
   "source": [
    "d6"
   ]
  },
  {
   "cell_type": "code",
   "execution_count": 44,
   "id": "c0fb97fd-eaa6-433e-b463-3742ae6fc66c",
   "metadata": {},
   "outputs": [
    {
     "ename": "TypeError",
     "evalue": "pop expected at least 1 argument, got 0",
     "output_type": "error",
     "traceback": [
      "\u001b[0;31m---------------------------------------------------------------------------\u001b[0m",
      "\u001b[0;31mTypeError\u001b[0m                                 Traceback (most recent call last)",
      "Cell \u001b[0;32mIn [44], line 1\u001b[0m\n\u001b[0;32m----> 1\u001b[0m \u001b[43md6\u001b[49m\u001b[38;5;241;43m.\u001b[39;49m\u001b[43mpop\u001b[49m\u001b[43m(\u001b[49m\u001b[43m)\u001b[49m\n",
      "\u001b[0;31mTypeError\u001b[0m: pop expected at least 1 argument, got 0"
     ]
    }
   ],
   "source": [
    "d6.pop()"
   ]
  },
  {
   "cell_type": "code",
   "execution_count": null,
   "id": "58b7f194-59b3-489f-8ba0-b456ec9fab7d",
   "metadata": {},
   "outputs": [],
   "source": [
    "##********************** IF-ELSE ***************************"
   ]
  },
  {
   "cell_type": "code",
   "execution_count": 48,
   "id": "8ddfbfaa-0453-43f4-a2fc-140fb7d00ec5",
   "metadata": {},
   "outputs": [
    {
     "name": "stdout",
     "output_type": "stream",
     "text": [
      "you will be a part of A1 batch\n"
     ]
    }
   ],
   "source": [
    "marks=65\n",
    "if marks >= 80 :\n",
    "    print(\"you will be a part of A0 batch\")\n",
    "elif marks >=60 and marks<80:\n",
    "    print(\"you will be a part of A1 batch\")\n",
    "elif marks>=40 and marks <60:\n",
    "    print(\"you will be a part of A2 batch\")\n",
    "else:\n",
    "    print(\"you will be a part of A3 batch\")"
   ]
  },
  {
   "cell_type": "code",
   "execution_count": 47,
   "id": "eb466708-b308-4664-8ae6-e55806ec2958",
   "metadata": {},
   "outputs": [
    {
     "data": {
      "text/plain": [
       "False"
      ]
     },
     "execution_count": 47,
     "metadata": {},
     "output_type": "execute_result"
    }
   ],
   "source": [
    "10>=80"
   ]
  },
  {
   "cell_type": "code",
   "execution_count": 1,
   "id": "ae4600e0-c123-4c1e-88d6-efb7a35b2c9d",
   "metadata": {},
   "outputs": [
    {
     "name": "stdin",
     "output_type": "stream",
     "text": [
      "Enter your marks 65\n"
     ]
    },
    {
     "name": "stdout",
     "output_type": "stream",
     "text": [
      "you will be a part of A1 batch\n"
     ]
    }
   ],
   "source": [
    "marks=int(input(\"Enter your marks\"))\n",
    "if marks >= 80 :\n",
    "    print(\"you will be a part of A0 batch\")\n",
    "elif marks >=60 and marks<80:\n",
    "    print(\"you will be a part of A1 batch\")\n",
    "elif marks>=40 and marks <60:\n",
    "    print(\"you will be a part of A2 batch\")\n",
    "else:\n",
    "    print(\"you will be a part of A3 batch\")"
   ]
  },
  {
   "cell_type": "code",
   "execution_count": 2,
   "id": "8eb77e6f-a5f5-444a-b22c-2641ee5879b7",
   "metadata": {
    "tags": []
   },
   "outputs": [
    {
     "name": "stdin",
     "output_type": "stream",
     "text": [
      "Enter Price 500\n"
     ]
    },
    {
     "name": "stdout",
     "output_type": "stream",
     "text": [
      "i will purchase\n"
     ]
    }
   ],
   "source": [
    "price1 = int(input(\"Enter Price\"))\n",
    "if price1 > 1000:\n",
    "    print(\"i will not purchase\")\n",
    "else:\n",
    "    print(\"i will purchase\")"
   ]
  },
  {
   "cell_type": "code",
   "execution_count": 6,
   "id": "1c4fc55a-d226-4886-92c2-e034430dfcf9",
   "metadata": {},
   "outputs": [
    {
     "name": "stdin",
     "output_type": "stream",
     "text": [
      "Enter Price 9000\n"
     ]
    },
    {
     "name": "stdout",
     "output_type": "stream",
     "text": [
      "i will not purchase\n",
      "This is too much\n"
     ]
    }
   ],
   "source": [
    "price1 = int(input(\"Enter Price\"))\n",
    "if price1 > 1000:\n",
    "    print(\"i will not purchase\")\n",
    "    if price1 > 5000:\n",
    "        print(\"This is too much\")\n",
    "    elif price1< 2000:\n",
    "        print(\"its ok\")\n",
    "elif price < 1000:\n",
    "    print(\"I will purchase\")\n",
    "else:\n",
    "    print(\"Not intersted\")"
   ]
  },
  {
   "cell_type": "code",
   "execution_count": 7,
   "id": "0d471688-a121-4417-a9e3-76dfd1c245e1",
   "metadata": {},
   "outputs": [],
   "source": [
    "#******************** LOOPS **********************"
   ]
  },
  {
   "cell_type": "code",
   "execution_count": 1,
   "id": "d88935d9-f035-4583-b335-f63f26aeee15",
   "metadata": {},
   "outputs": [],
   "source": [
    "l=[1,2,3,4,5,6,7]"
   ]
  },
  {
   "cell_type": "code",
   "execution_count": 5,
   "id": "85e762a9-1215-4b62-9716-78cc663398a9",
   "metadata": {},
   "outputs": [
    {
     "name": "stdout",
     "output_type": "stream",
     "text": [
      "2\n",
      "3\n",
      "4\n",
      "5\n",
      "6\n",
      "7\n",
      "8\n"
     ]
    },
    {
     "data": {
      "text/plain": [
       "[2, 3, 4, 5, 6, 7, 8]"
      ]
     },
     "execution_count": 5,
     "metadata": {},
     "output_type": "execute_result"
    }
   ],
   "source": [
    "l1=[]\n",
    "for i in l:\n",
    "    print(i+1)\n",
    "    l1.append(i+1)\n",
    "l1"
   ]
  },
  {
   "cell_type": "code",
   "execution_count": 6,
   "id": "67ddbddc-7bfd-4777-85af-d9b1fdcb5acc",
   "metadata": {},
   "outputs": [
    {
     "data": {
      "text/plain": [
       "[2, 3, 4, 5, 6, 7, 8]"
      ]
     },
     "execution_count": 6,
     "metadata": {},
     "output_type": "execute_result"
    }
   ],
   "source": [
    "l1"
   ]
  },
  {
   "cell_type": "code",
   "execution_count": 7,
   "id": "57231925-f5e9-4e64-93c3-7a9a024efb72",
   "metadata": {},
   "outputs": [],
   "source": [
    "l=[\"sudh\",\"kumar\",\"pwskills\",\"course\"]"
   ]
  },
  {
   "cell_type": "code",
   "execution_count": 10,
   "id": "9641f07e-6e0c-4a9e-b5af-91aa792391b3",
   "metadata": {},
   "outputs": [
    {
     "name": "stdout",
     "output_type": "stream",
     "text": [
      "sudh\n",
      "kumar\n",
      "pwskills\n",
      "course\n"
     ]
    },
    {
     "data": {
      "text/plain": [
       "['SUDH', 'KUMAR', 'PWSKILLS', 'COURSE']"
      ]
     },
     "execution_count": 10,
     "metadata": {},
     "output_type": "execute_result"
    }
   ],
   "source": [
    "l1=[]\n",
    "for i in l:\n",
    "    print(i)\n",
    "    l1.append(i.upper())\n",
    "l1"
   ]
  },
  {
   "cell_type": "code",
   "execution_count": 11,
   "id": "7e535f43-2ec1-488d-990e-cf654f446d19",
   "metadata": {},
   "outputs": [
    {
     "data": {
      "text/plain": [
       "['SUDH', 'KUMAR', 'PWSKILLS', 'COURSE']"
      ]
     },
     "execution_count": 11,
     "metadata": {},
     "output_type": "execute_result"
    }
   ],
   "source": [
    "l1"
   ]
  },
  {
   "cell_type": "code",
   "execution_count": 12,
   "id": "b6079a57-a761-453f-974a-20dec77b0582",
   "metadata": {},
   "outputs": [],
   "source": [
    "l=[1,2,3,4,4,\"sudh\",\"kumar\",324,34.456,\"abc\"]"
   ]
  },
  {
   "cell_type": "code",
   "execution_count": 15,
   "id": "a0652c4f-4115-4333-816d-e4d08778568b",
   "metadata": {},
   "outputs": [],
   "source": [
    "l1=[]\n",
    "l2=[]\n",
    "for i in l:\n",
    "    if type(i) == int or type(i) == float:\n",
    "        l1.append(i)\n",
    "    else:\n",
    "        l2.append(i)"
   ]
  },
  {
   "cell_type": "code",
   "execution_count": 16,
   "id": "9981c3e4-b0e9-4673-83c2-8886a2f41ee1",
   "metadata": {},
   "outputs": [
    {
     "data": {
      "text/plain": [
       "[1, 2, 3, 4, 4, 324, 34.456]"
      ]
     },
     "execution_count": 16,
     "metadata": {},
     "output_type": "execute_result"
    }
   ],
   "source": [
    "l1"
   ]
  },
  {
   "cell_type": "code",
   "execution_count": 17,
   "id": "7df6ac27-2acd-4707-a68a-925eb796d46b",
   "metadata": {},
   "outputs": [
    {
     "data": {
      "text/plain": [
       "['sudh', 'kumar', 'abc']"
      ]
     },
     "execution_count": 17,
     "metadata": {},
     "output_type": "execute_result"
    }
   ],
   "source": [
    "l2"
   ]
  },
  {
   "cell_type": "code",
   "execution_count": null,
   "id": "032087d6-411c-465c-988e-b5807f0d265d",
   "metadata": {},
   "outputs": [],
   "source": []
  }
 ],
 "metadata": {
  "kernelspec": {
   "display_name": "Python 3 (ipykernel)",
   "language": "python",
   "name": "python3"
  },
  "language_info": {
   "codemirror_mode": {
    "name": "ipython",
    "version": 3
   },
   "file_extension": ".py",
   "mimetype": "text/x-python",
   "name": "python",
   "nbconvert_exporter": "python",
   "pygments_lexer": "ipython3",
   "version": "3.10.6"
  }
 },
 "nbformat": 4,
 "nbformat_minor": 5
}
